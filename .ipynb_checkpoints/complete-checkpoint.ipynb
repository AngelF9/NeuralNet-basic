{
 "cells": [
  {
   "cell_type": "code",
   "execution_count": 1,
   "id": "16228436-90ed-45c2-8f5e-29270fffc79f",
   "metadata": {},
   "outputs": [],
   "source": [
    "import torch\n",
    "import torch.nn as nn\n",
    "import torch.optim as optim"
   ]
  },
  {
   "cell_type": "code",
   "execution_count": 2,
   "id": "2cd4c436-bf15-4783-9ca2-c091dba0eff0",
   "metadata": {
    "scrolled": true
   },
   "outputs": [],
   "source": [
    "class NueralNet(nn.Module):\n",
    "    def __init__(self):\n",
    "        super(NueralNet, self).__init__()\n",
    "        self.linear = nn.Linear(1, 1)\n",
    "\n",
    "    def forward(self, x):\n",
    "        return self.linear(x)\n",
    "\n",
    "model = NueralNet()"
   ]
  },
  {
   "cell_type": "code",
   "execution_count": 3,
   "id": "05681799-3eb0-4590-be7d-facfa1d45476",
   "metadata": {},
   "outputs": [],
   "source": [
    "criterion = nn.MSELoss()\n",
    "optimizer = optim.SGD(model.parameters(), lr=0.01)"
   ]
  },
  {
   "cell_type": "code",
   "execution_count": 4,
   "id": "0498d344-9ac2-43bd-88d8-4dbb8362a32f",
   "metadata": {},
   "outputs": [],
   "source": [
    "x_train = torch.tensor([[1.0], [2.0], [3.0], [4.0], [5.0], [6.0]], requires_grad=False)\n",
    "y_train = x_train * 2"
   ]
  },
  {
   "cell_type": "code",
   "execution_count": 5,
   "id": "b941be4a-6dde-48bf-a155-4a491eda848a",
   "metadata": {},
   "outputs": [
    {
     "name": "stdout",
     "output_type": "stream",
     "text": [
      "Epoch 0, Loss: 145.46896362304688\n",
      "Epoch 100, Loss: 0.0024673505686223507\n",
      "Epoch 200, Loss: 0.001187593094073236\n",
      "Epoch 300, Loss: 0.0005716039449907839\n",
      "Epoch 400, Loss: 0.0002751227293629199\n",
      "Epoch 500, Loss: 0.00013242180284578353\n",
      "Epoch 600, Loss: 6.373693031491712e-05\n",
      "Epoch 700, Loss: 3.0679351766593754e-05\n",
      "Epoch 800, Loss: 1.476777561038034e-05\n",
      "Epoch 900, Loss: 7.109644229785772e-06\n"
     ]
    }
   ],
   "source": [
    "for epoch in range(1000):\n",
    "    # forward pass\n",
    "    y_prediction = model(x_train)\n",
    "    # loss\n",
    "    loss = criterion(y_prediction, y_train)\n",
    "    # clear gradients\n",
    "    optimizer.zero_grad()\n",
    "    # backward pass\n",
    "    loss.backward()\n",
    "    # update param\n",
    "    optimizer.step()\n",
    "    \n",
    "    if epoch % 100 == 0:\n",
    "        print(f'Epoch {epoch}, Loss: {loss.item()}')"
   ]
  },
  {
   "cell_type": "code",
   "execution_count": 9,
   "id": "0cb9b3b0-c0c9-4f5f-806d-9e1137422e4e",
   "metadata": {},
   "outputs": [
    {
     "name": "stdout",
     "output_type": "stream",
     "text": [
      "Prediction for x= 12.0: y = 24.007604598999023\n"
     ]
    }
   ],
   "source": [
    "# Test the model\n",
    "x_test = torch.tensor([[12.0]])\n",
    "y_test = model(x_test)\n",
    "print(f'Prediction for x= {x_test.item()}: y = {y_test.item()}')"
   ]
  },
  {
   "cell_type": "code",
   "execution_count": null,
   "id": "a0cbe54f-d541-4a90-8933-d8f6b2cc93d0",
   "metadata": {},
   "outputs": [],
   "source": []
  }
 ],
 "metadata": {
  "kernelspec": {
   "display_name": "Python 3 (ipykernel)",
   "language": "python",
   "name": "python3"
  },
  "language_info": {
   "codemirror_mode": {
    "name": "ipython",
    "version": 3
   },
   "file_extension": ".py",
   "mimetype": "text/x-python",
   "name": "python",
   "nbconvert_exporter": "python",
   "pygments_lexer": "ipython3",
   "version": "3.12.4"
  }
 },
 "nbformat": 4,
 "nbformat_minor": 5
}
